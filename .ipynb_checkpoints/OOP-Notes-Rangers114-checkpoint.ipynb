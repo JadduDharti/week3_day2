{
 "cells": [
  {
   "cell_type": "code",
   "execution_count": null,
   "metadata": {},
   "outputs": [],
   "source": [
    "# Object-Oriented-Programming (OOP)"
   ]
  },
  {
   "cell_type": "markdown",
   "metadata": {},
   "source": [
    "## Tasks Today:\n",
    "\n",
    "   \n",
    "\n",
    "1) <b>Creating a Class (Initializing/Declaring)</b> <br>\n",
    "2) <b>Using a Class (Instantiating)</b> <br>\n",
    " &nbsp;&nbsp;&nbsp;&nbsp; a) Creating One Instance <br>\n",
    " &nbsp;&nbsp;&nbsp;&nbsp; b) Creating Multiple Instances <br>\n",
    " &nbsp;&nbsp;&nbsp;&nbsp; c) In-Class Exercise #1 - Create a Class 'Car' and instantiate three different makes of cars <br>\n",
    "3) <b>The \\__init\\__() Method</b> <br>\n",
    " &nbsp;&nbsp;&nbsp;&nbsp; a) The 'self' Attribute <br>\n",
    "4) <b>Class Attributes</b> <br>\n",
    " &nbsp;&nbsp;&nbsp;&nbsp; a) Initializing Attributes <br>\n",
    " &nbsp;&nbsp;&nbsp;&nbsp; b) Setting an Attribute Outside of the \\__init\\__() Method <br>\n",
    " &nbsp;&nbsp;&nbsp;&nbsp; c) Setting Defaults for Attributes <br>\n",
    " &nbsp;&nbsp;&nbsp;&nbsp; d) Accessing Class Attributes <br>\n",
    " &nbsp;&nbsp;&nbsp;&nbsp; e) Changing Class Attributes <br>\n",
    " &nbsp;&nbsp;&nbsp;&nbsp; f) In-Class Exercise #2 - Add a color and wheels attribute to your 'Car' class <br>\n",
    "5) <b>Class Methods</b> <br>\n",
    " &nbsp;&nbsp;&nbsp;&nbsp; a) Creating <br>\n",
    " &nbsp;&nbsp;&nbsp;&nbsp; b) Calling <br>\n",
    " &nbsp;&nbsp;&nbsp;&nbsp; c) Modifying an Attribute's Value Through a Method <br>\n",
    " &nbsp;&nbsp;&nbsp;&nbsp; d) Incrementing an Attribute's Value Through a Method <br>\n",
    " &nbsp;&nbsp;&nbsp;&nbsp; e) In-Class Exercise #3 - Add a method that prints the cars color and wheel number, then call them <br>\n",
    "6) <b>Inheritance</b> <br>\n",
    " &nbsp;&nbsp;&nbsp;&nbsp; a) Syntax for Inheriting from a Parent Class <br>\n",
    " &nbsp;&nbsp;&nbsp;&nbsp; b) The \\__init\\__() Method for a Child Class (super()) <br>\n",
    " &nbsp;&nbsp;&nbsp;&nbsp; c) Defining Attributes and Methods for the Child Class <br>\n",
    " &nbsp;&nbsp;&nbsp;&nbsp; d) Method Overriding <br>\n",
    " &nbsp;&nbsp;&nbsp;&nbsp; e) In-Class Exercise #4 - Create a class 'Ford' that inherits from 'Car' class and initialize it as a Blue Ford Explorer with 4 wheels using the super() method <br>\n",
    "7) <b>Classes as Attributes</b> <br>\n",
    "8) <b>Exercises</b> <br>\n",
    " &nbsp;&nbsp;&nbsp;&nbsp; a) Exercise #1 - Turn the shopping cart program from last week into an object-oriented program <br>"
   ]
  },
  {
   "cell_type": "markdown",
   "metadata": {},
   "source": [
    "## Creating a Class (Initializing/Declaring)\n",
    "<p>When creating a class, function, or even a variable you are initializing that object. Initializing and Declaring occur at the same time in Python, whereas in lower level languages you have to declare an object before initializing it. This is the first step in the process of using a class.</p>"
   ]
  },
  {
   "cell_type": "code",
   "execution_count": 3,
   "metadata": {},
   "outputs": [],
   "source": [
    "# def addNums(n1, n2):\n",
    "#     return n1 + n2\n",
    "\n",
    "class Car():\n",
    "    wheels = 4\n",
    "    color = \"Blue\""
   ]
  },
  {
   "cell_type": "markdown",
   "metadata": {},
   "source": [
    "## Using a Class (Instantiating)\n",
    "<p>The process of creating a class is called <i>Instantiating</i>. Each time you create a variable of that type of class, it is referred to as an <i>Instance</i> of that class. This is the second step in the process of using a class.</p>"
   ]
  },
  {
   "cell_type": "markdown",
   "metadata": {},
   "source": [
    "##### Creating One Instance"
   ]
  },
  {
   "cell_type": "code",
   "execution_count": 5,
   "metadata": {},
   "outputs": [
    {
     "name": "stdout",
     "output_type": "stream",
     "text": [
      "Blue\n",
      "4\n"
     ]
    },
    {
     "ename": "AttributeError",
     "evalue": "'Car' object has no attribute '_dict_'",
     "output_type": "error",
     "traceback": [
      "\u001b[1;31m---------------------------------------------------------------------------\u001b[0m",
      "\u001b[1;31mAttributeError\u001b[0m                            Traceback (most recent call last)",
      "Cell \u001b[1;32mIn[5], line 7\u001b[0m\n\u001b[0;32m      3\u001b[0m \u001b[38;5;28mprint\u001b[39m(mazda\u001b[38;5;241m.\u001b[39mcolor)\n\u001b[0;32m      4\u001b[0m \u001b[38;5;28mprint\u001b[39m(mazda\u001b[38;5;241m.\u001b[39mwheels)\n\u001b[1;32m----> 7\u001b[0m \u001b[38;5;28mprint\u001b[39m(\u001b[43mmazda\u001b[49m\u001b[38;5;241;43m.\u001b[39;49m\u001b[43m_dict_\u001b[49m)\n",
      "\u001b[1;31mAttributeError\u001b[0m: 'Car' object has no attribute '_dict_'"
     ]
    }
   ],
   "source": [
    "mazda = Car()  #<---- need pramtheses\n",
    "\n",
    "print(mazda.color)\n",
    "print(mazda.wheels)\n",
    "\n",
    "\n",
    "#print(mazda._dict_)"
   ]
  },
  {
   "cell_type": "markdown",
   "metadata": {},
   "source": [
    "##### Creating Multiple Instances"
   ]
  },
  {
   "cell_type": "code",
   "execution_count": 6,
   "metadata": {},
   "outputs": [
    {
     "name": "stdout",
     "output_type": "stream",
     "text": [
      "Blue\n",
      "4\n",
      "4\n"
     ]
    }
   ],
   "source": [
    "ford = Car()\n",
    "honda = Car()\n",
    "chavy = Car()\n",
    "\n",
    "print(ford.color)\n",
    "print(honda.wheels)\n",
    "print(chavy.wheels)"
   ]
  },
  {
   "cell_type": "markdown",
   "metadata": {},
   "source": [
    "##### In-Class Exercise #1 - Create a Class 'Car' and Instantiate three different makes of cars"
   ]
  },
  {
   "cell_type": "code",
   "execution_count": 13,
   "metadata": {},
   "outputs": [
    {
     "name": "stdout",
     "output_type": "stream",
     "text": [
      "4\n",
      "2\n",
      "Toyato\n",
      "Black\n"
     ]
    }
   ],
   "source": [
    "class Cars():\n",
    "    def __init__(self, make, model, wheels, color, doors):\n",
    "        self.make = make\n",
    "        self.model = model\n",
    "        self.wheels = wheels\n",
    "        self.color = color\n",
    "        self.doors = doors\n",
    "        \n",
    "\n",
    "honda = Cars(\"Honda\", \"CR-V\", 4, \"Sonic grey\", 4)\n",
    "dodge = Cars(\"Dodge\", \"Challenger\", 4, \"Black\", 2)\n",
    "carolla = Cars(\"Toyato\", \"Carolla\", 4, \"White\", 4)\n",
    "\n",
    "print(honda.wheels)\n",
    "print(dodge.doors)\n",
    "print(carolla.make)\n",
    "print(dodge.color)\n",
    "\n",
    "\n",
    "    "
   ]
  },
  {
   "cell_type": "code",
   "execution_count": 14,
   "metadata": {},
   "outputs": [
    {
     "name": "stdout",
     "output_type": "stream",
     "text": [
      "red\n",
      "7\n",
      "highlander\n",
      "blue\n",
      "4\n",
      "sedan\n"
     ]
    }
   ],
   "source": [
    "class Car():\n",
    "    seats = 4\n",
    "    wheels = 4\n",
    "    color = \"blue\"\n",
    "    model = \"sedan\"\n",
    "    \n",
    "toyota = Car()\n",
    "honda = Car()\n",
    "ford = Car()\n",
    "\n",
    "toyota.seats = 7\n",
    "toyota.color = \"red\"\n",
    "toyota.model = \"highlander\"\n",
    "\n",
    "print(toyota.color)\n",
    "print(toyota.seats)\n",
    "print(toyota.model)\n",
    "\n",
    "print(honda.color)\n",
    "print(honda.seats)\n",
    "print(honda.model)"
   ]
  },
  {
   "cell_type": "markdown",
   "metadata": {},
   "source": [
    "## The \\__init\\__() Method <br>\n",
    "<p>This method is used in almost every created class, and called only once upon the creation of the class instance. This method will initialize all variables needed for the object.</p>"
   ]
  },
  {
   "cell_type": "code",
   "execution_count": 20,
   "metadata": {},
   "outputs": [
    {
     "name": "stdout",
     "output_type": "stream",
     "text": [
      "Blue\n",
      "Red\n",
      "Green\n",
      "Silver\n",
      "{'wheels': 4, 'color': 'Blue', 'doors': 4}\n",
      "{'wheels': 4, 'color': 'Red', 'doors': 2}\n"
     ]
    }
   ],
   "source": [
    "class Car():\n",
    "    def __init__(self, wheels, color, doors):\n",
    "        self.wheels = wheels\n",
    "        self.color = color\n",
    "        self.doors = doors\n",
    "        \n",
    "mazda = Car(4, \"Blue\", 4)\n",
    "\n",
    "mclaren = Car(4, 'Red', 2)\n",
    "\n",
    "honda = Car(4, \"Green\", 4)\n",
    "\n",
    "ford = Car(6, \"Silver\", 4)\n",
    "print(mazda.color)\n",
    "print(mclaren.color)\n",
    "print(honda.color)\n",
    "print(ford.color)\n",
    "\n",
    "mazda.wheels\n",
    "\n",
    "print(mazda.__dict__)\n",
    "\n",
    "print(mclaren.__dict__)"
   ]
  },
  {
   "cell_type": "markdown",
   "metadata": {},
   "source": [
    "##### The 'self' Attribute <br>\n",
    "<p>This attribute is required to keep track of specific instance's attributes. Without the self attribute, the program would not know how to reference or keep track of an instance's attributes.</p>"
   ]
  },
  {
   "cell_type": "code",
   "execution_count": 32,
   "metadata": {},
   "outputs": [],
   "source": [
    "class Pokemon():\n",
    "    def __init__(self, type_):\n",
    "        \n",
    "        self.name = self.set_name()\n",
    "        self.type = type_\n",
    "        \n",
    "    def print_info(self):\n",
    "        print(f\"This is {self.name}. It is {self.type} type.\")\n",
    "        \n",
    "    def set_name(self):\n",
    "        name = input(\"What is your pokemon name? \")\n",
    "        return name\n",
    "    \n",
    "    \n",
    " \n"
   ]
  },
  {
   "cell_type": "markdown",
   "metadata": {},
   "source": [
    "## Class Attributes <br>\n",
    "<p>While variables are inside of a class, they are referred to as attributes and not variables. When someone says 'attribute' you know they're speaking about a class. Attributes can be initialized through the init method, or outside of it.</p>"
   ]
  },
  {
   "cell_type": "markdown",
   "metadata": {},
   "source": [
    "##### Initializing Attributes"
   ]
  },
  {
   "cell_type": "code",
   "execution_count": 33,
   "metadata": {},
   "outputs": [
    {
     "name": "stdout",
     "output_type": "stream",
     "text": [
      "What is your pokemon name? Charemander\n"
     ]
    }
   ],
   "source": [
    "charemander = Pokemon(\"fire\")"
   ]
  },
  {
   "cell_type": "markdown",
   "metadata": {},
   "source": [
    "##### Accessing Class Attributes"
   ]
  },
  {
   "cell_type": "code",
   "execution_count": 34,
   "metadata": {
    "scrolled": true
   },
   "outputs": [
    {
     "name": "stdout",
     "output_type": "stream",
     "text": [
      "Charemander\n",
      "fire\n",
      "{'name': 'Charemander', 'type': 'fire'}\n"
     ]
    }
   ],
   "source": [
    "print(charemander.name)\n",
    "print(charemander.type)\n",
    "print(charemander.__dict__)"
   ]
  },
  {
   "cell_type": "markdown",
   "metadata": {},
   "source": [
    "##### Setting Defaults for Attributes"
   ]
  },
  {
   "cell_type": "code",
   "execution_count": 38,
   "metadata": {},
   "outputs": [
    {
     "name": "stdout",
     "output_type": "stream",
     "text": [
      "Blue\n",
      "red\n",
      "4\n",
      "Red\n",
      "Yellow\n",
      "\n",
      "\n",
      "Orange\n"
     ]
    }
   ],
   "source": [
    "#setting a default attribute inside of the __init__\n",
    "\n",
    "class Car():\n",
    "    def __init__(self, wheels):\n",
    "        self.wheels = wheels\n",
    "        self.color = \"Blue\"\n",
    "        \n",
    "honda = Car(4)\n",
    "print(honda.color)\n",
    "honda.color = \"red\"\n",
    "\n",
    "print(honda.color)\n",
    "\n",
    "#setting a default parameter in the __init__\n",
    "\n",
    "class Car():\n",
    "    def __init__(self, wheels, color = \"Red\"):\n",
    "        self.wheels = wheels\n",
    "        self.color = color\n",
    "        \n",
    "ford = Car(4)\n",
    "print(ford.wheels)\n",
    "print(ford.color)\n",
    "ford.color = \"Yellow\"\n",
    "print(ford.color)\n",
    "\n",
    "print(\"\\n\")\n",
    "\n",
    "toyota = Car(4, \"Orange\")\n",
    "print(toyota.color)"
   ]
  },
  {
   "cell_type": "markdown",
   "metadata": {},
   "source": [
    "##### Changing Class Attributes <br>\n",
    "<p>Keep in mind there are global class attributes and then there are attributes only available to each class instance which won't effect other classes.</p>"
   ]
  },
  {
   "cell_type": "code",
   "execution_count": 39,
   "metadata": {},
   "outputs": [
    {
     "name": "stdout",
     "output_type": "stream",
     "text": [
      "Cheetor before he was broken: True\n",
      "Cheetor before he was broken: False\n"
     ]
    }
   ],
   "source": [
    "class Toy():\n",
    "    def __init__(self, name, is_it_fun):\n",
    "        self.name = name\n",
    "        self.is_it_fun = is_it_fun\n",
    "        \n",
    "beast_wars = Toy(\"Cheetor\", True)\n",
    "print(f\"Cheetor before he was broken: {beast_wars.is_it_fun}\")\n",
    "beast_wars.is_it_fun = False\n",
    "print(f\"Cheetor before he was broken: {beast_wars.is_it_fun}\")\n"
   ]
  },
  {
   "cell_type": "code",
   "execution_count": null,
   "metadata": {},
   "outputs": [],
   "source": []
  },
  {
   "cell_type": "markdown",
   "metadata": {},
   "source": [
    "##### In-Class Exercise #2 - Add two new attributes to your 'Car' class then print out two different instances with different doors and seats. Then take that bad boy to the shop and change those attributes. Either with an input or just by changing them"
   ]
  },
  {
   "cell_type": "code",
   "execution_count": 43,
   "metadata": {},
   "outputs": [
    {
     "name": "stdout",
     "output_type": "stream",
     "text": [
      "Black\n",
      "7\n",
      "F150\n",
      "what is the color of your car? Black\n",
      "Your car F150 is Black color and 5 seated.\n"
     ]
    }
   ],
   "source": [
    "class Car():\n",
    "    def __init__(self, color, seat, make):\n",
    "        self.color = color\n",
    "        self.seat = seat\n",
    "        self.make = make\n",
    "        \n",
    "honda = Car(\"Black\", 8, \"Pilot\")\n",
    "toyota = Car(\"Grey\", 7, \"Highlander\")\n",
    "ford = Car(\"White\", 5, \"F150\")\n",
    "print(honda.color)\n",
    "print(toyota.seat)\n",
    "print(ford.make)\n",
    "\n",
    "\n",
    "clr = input(\"what is the color of your car? \")\n",
    "ford.color = clr\n",
    "print(f\"Your car {ford.make} is {ford.color} color and {ford.seat} seated.\")\n",
    "\n"
   ]
  },
  {
   "cell_type": "code",
   "execution_count": 44,
   "metadata": {},
   "outputs": [
    {
     "ename": "KeyboardInterrupt",
     "evalue": "Interrupted by user",
     "output_type": "error",
     "traceback": [
      "\u001b[1;31m---------------------------------------------------------------------------\u001b[0m",
      "\u001b[1;31mKeyboardInterrupt\u001b[0m                         Traceback (most recent call last)",
      "Cell \u001b[1;32mIn[44], line 18\u001b[0m\n\u001b[0;32m     14\u001b[0m         crust \u001b[38;5;241m=\u001b[39m \u001b[38;5;28minput\u001b[39m(\u001b[38;5;124m\"\u001b[39m\u001b[38;5;124mwhat kind of crust you like: \u001b[39m\u001b[38;5;124m\"\u001b[39m)\n\u001b[0;32m     15\u001b[0m         \u001b[38;5;28;01mreturn\u001b[39;00m crust\n\u001b[1;32m---> 18\u001b[0m my_pizza \u001b[38;5;241m=\u001b[39m \u001b[43mPizza\u001b[49m\u001b[43m(\u001b[49m\u001b[43m)\u001b[49m\n\u001b[0;32m     19\u001b[0m \u001b[38;5;28mprint\u001b[39m(my_pizza\u001b[38;5;241m.\u001b[39mtppoing)\n",
      "Cell \u001b[1;32mIn[44], line 3\u001b[0m, in \u001b[0;36mPizza.__init__\u001b[1;34m(self)\u001b[0m\n\u001b[0;32m      2\u001b[0m \u001b[38;5;28;01mdef\u001b[39;00m \u001b[38;5;21m__init__\u001b[39m(\u001b[38;5;28mself\u001b[39m):\n\u001b[1;32m----> 3\u001b[0m     \u001b[38;5;28mself\u001b[39m\u001b[38;5;241m.\u001b[39msauce \u001b[38;5;241m=\u001b[39m \u001b[38;5;28;43mself\u001b[39;49m\u001b[38;5;241;43m.\u001b[39;49m\u001b[43mset_sauce\u001b[49m\u001b[43m(\u001b[49m\u001b[43m)\u001b[49m\n\u001b[0;32m      4\u001b[0m     \u001b[38;5;28mself\u001b[39m\u001b[38;5;241m.\u001b[39mtopping \u001b[38;5;241m=\u001b[39m \u001b[38;5;28mself\u001b[39m\u001b[38;5;241m.\u001b[39mset_topping()\n\u001b[0;32m      5\u001b[0m     \u001b[38;5;28mself\u001b[39m\u001b[38;5;241m.\u001b[39mcrust \u001b[38;5;241m=\u001b[39m \u001b[38;5;28mself\u001b[39m\u001b[38;5;241m.\u001b[39mset_crust()\n",
      "Cell \u001b[1;32mIn[44], line 14\u001b[0m, in \u001b[0;36mPizza.set_sauce\u001b[1;34m(self)\u001b[0m\n\u001b[0;32m     13\u001b[0m \u001b[38;5;28;01mdef\u001b[39;00m \u001b[38;5;21mset_sauce\u001b[39m(\u001b[38;5;28mself\u001b[39m):\n\u001b[1;32m---> 14\u001b[0m     crust \u001b[38;5;241m=\u001b[39m \u001b[38;5;28;43minput\u001b[39;49m\u001b[43m(\u001b[49m\u001b[38;5;124;43m\"\u001b[39;49m\u001b[38;5;124;43mwhat kind of crust you like: \u001b[39;49m\u001b[38;5;124;43m\"\u001b[39;49m\u001b[43m)\u001b[49m\n\u001b[0;32m     15\u001b[0m     \u001b[38;5;28;01mreturn\u001b[39;00m crust\n",
      "File \u001b[1;32m~\\AppData\\Local\\Programs\\Python\\Python39\\lib\\site-packages\\ipykernel\\kernelbase.py:1191\u001b[0m, in \u001b[0;36mKernel.raw_input\u001b[1;34m(self, prompt)\u001b[0m\n\u001b[0;32m   1189\u001b[0m     msg \u001b[38;5;241m=\u001b[39m \u001b[38;5;124m\"\u001b[39m\u001b[38;5;124mraw_input was called, but this frontend does not support input requests.\u001b[39m\u001b[38;5;124m\"\u001b[39m\n\u001b[0;32m   1190\u001b[0m     \u001b[38;5;28;01mraise\u001b[39;00m StdinNotImplementedError(msg)\n\u001b[1;32m-> 1191\u001b[0m \u001b[38;5;28;01mreturn\u001b[39;00m \u001b[38;5;28;43mself\u001b[39;49m\u001b[38;5;241;43m.\u001b[39;49m\u001b[43m_input_request\u001b[49m\u001b[43m(\u001b[49m\n\u001b[0;32m   1192\u001b[0m \u001b[43m    \u001b[49m\u001b[38;5;28;43mstr\u001b[39;49m\u001b[43m(\u001b[49m\u001b[43mprompt\u001b[49m\u001b[43m)\u001b[49m\u001b[43m,\u001b[49m\n\u001b[0;32m   1193\u001b[0m \u001b[43m    \u001b[49m\u001b[38;5;28;43mself\u001b[39;49m\u001b[38;5;241;43m.\u001b[39;49m\u001b[43m_parent_ident\u001b[49m\u001b[43m[\u001b[49m\u001b[38;5;124;43m\"\u001b[39;49m\u001b[38;5;124;43mshell\u001b[39;49m\u001b[38;5;124;43m\"\u001b[39;49m\u001b[43m]\u001b[49m\u001b[43m,\u001b[49m\n\u001b[0;32m   1194\u001b[0m \u001b[43m    \u001b[49m\u001b[38;5;28;43mself\u001b[39;49m\u001b[38;5;241;43m.\u001b[39;49m\u001b[43mget_parent\u001b[49m\u001b[43m(\u001b[49m\u001b[38;5;124;43m\"\u001b[39;49m\u001b[38;5;124;43mshell\u001b[39;49m\u001b[38;5;124;43m\"\u001b[39;49m\u001b[43m)\u001b[49m\u001b[43m,\u001b[49m\n\u001b[0;32m   1195\u001b[0m \u001b[43m    \u001b[49m\u001b[43mpassword\u001b[49m\u001b[38;5;241;43m=\u001b[39;49m\u001b[38;5;28;43;01mFalse\u001b[39;49;00m\u001b[43m,\u001b[49m\n\u001b[0;32m   1196\u001b[0m \u001b[43m\u001b[49m\u001b[43m)\u001b[49m\n",
      "File \u001b[1;32m~\\AppData\\Local\\Programs\\Python\\Python39\\lib\\site-packages\\ipykernel\\kernelbase.py:1234\u001b[0m, in \u001b[0;36mKernel._input_request\u001b[1;34m(self, prompt, ident, parent, password)\u001b[0m\n\u001b[0;32m   1231\u001b[0m \u001b[38;5;28;01mexcept\u001b[39;00m \u001b[38;5;167;01mKeyboardInterrupt\u001b[39;00m:\n\u001b[0;32m   1232\u001b[0m     \u001b[38;5;66;03m# re-raise KeyboardInterrupt, to truncate traceback\u001b[39;00m\n\u001b[0;32m   1233\u001b[0m     msg \u001b[38;5;241m=\u001b[39m \u001b[38;5;124m\"\u001b[39m\u001b[38;5;124mInterrupted by user\u001b[39m\u001b[38;5;124m\"\u001b[39m\n\u001b[1;32m-> 1234\u001b[0m     \u001b[38;5;28;01mraise\u001b[39;00m \u001b[38;5;167;01mKeyboardInterrupt\u001b[39;00m(msg) \u001b[38;5;28;01mfrom\u001b[39;00m \u001b[38;5;28mNone\u001b[39m\n\u001b[0;32m   1235\u001b[0m \u001b[38;5;28;01mexcept\u001b[39;00m \u001b[38;5;167;01mException\u001b[39;00m:\n\u001b[0;32m   1236\u001b[0m     \u001b[38;5;28mself\u001b[39m\u001b[38;5;241m.\u001b[39mlog\u001b[38;5;241m.\u001b[39mwarning(\u001b[38;5;124m\"\u001b[39m\u001b[38;5;124mInvalid Message:\u001b[39m\u001b[38;5;124m\"\u001b[39m, exc_info\u001b[38;5;241m=\u001b[39m\u001b[38;5;28;01mTrue\u001b[39;00m)\n",
      "\u001b[1;31mKeyboardInterrupt\u001b[0m: Interrupted by user"
     ]
    }
   ],
   "source": [
    "class Pizza():\n",
    "    def __init__(self):\n",
    "        self.sauce = self.set_sauce()\n",
    "        self.topping = self.set_topping()\n",
    "        self.crust = self.set_crust()\n",
    "        \n",
    "    def set_sauce(self):\n",
    "        sauce = input(\"what kind of sauce you like: \")\n",
    "        return sauce\n",
    "    def set_topping(self):\n",
    "        topping = input(\"what kind of topping you like: \")\n",
    "        return topping\n",
    "    def set_sauce(self):\n",
    "        crust = input(\"what kind of crust you like: \")\n",
    "        return crust\n",
    "    \n",
    "    \n",
    "my_pizza = Pizza()\n",
    "print(my_pizza.tppoing)"
   ]
  },
  {
   "cell_type": "markdown",
   "metadata": {},
   "source": [
    "## Class Methods <br>\n",
    "<p>While inside of a class, functions are referred to as 'methods'. If you hear someone mention methods, they're speaking about classes. Methods are essentially functions, but only callable on the instances of a class.</p>"
   ]
  },
  {
   "cell_type": "markdown",
   "metadata": {},
   "source": [
    "##### Creating"
   ]
  },
  {
   "cell_type": "code",
   "execution_count": 56,
   "metadata": {},
   "outputs": [],
   "source": [
    "class Bus():\n",
    "    \"\"\"\n",
    "        The bus will have doors, seat, seat availabe, color and a bus driver\n",
    "       -- doors: integer\n",
    "       -- seats: integer\n",
    "       -- seats_available: integer\n",
    "       -- color: string\n",
    "       -- bus_driver: string\n",
    "        \n",
    "    \"\"\"\n",
    "    \n",
    "    def __init__(self, doors, seats, seats_available, color, bus_driver):\n",
    "        self.doors = doors\n",
    "        self.seats = seats\n",
    "        self.seats_available = seats_available\n",
    "        self.color = color\n",
    "        self.bus_driver = bus_driver\n",
    "        \n",
    "    #decrement number of seats available\n",
    "    def load_passenger(self):\n",
    "        if self.seats_available <= 0:\n",
    "            print(\"The bus is full! You can't take any more passenger\")\n",
    "#             if self.seats_available < 0:\n",
    "#                 print(f\"You left {abs(self.seats_available)} by the road!\")\n",
    "#                 self.seats_available = 0\n",
    "                \n",
    "        else: \n",
    "            passengers = int(input(\"How many passenger are getting on? \"))\n",
    "            self.seats_available -= passengers\n",
    "            if self.seats_available < 0:\n",
    "                print(f\"You left {abs(self.seat_available)} by the road!\")\n",
    "                self.seats_available = 0\n",
    "            print(f\"{passengers} passengers have boarded. There are {self.seats_available} seats available left on the bus!\")\n",
    "        \n",
    "\n",
    "    \n",
    "    #increment number of seats available\n",
    "    \n",
    "    def unload_passenger(self):\n",
    "        if self.seats_available >= self.seats:\n",
    "            print(\"There is no one left top get off the bus!\")\n",
    "        else:\n",
    "            unload = int(input(\"How many passengers are getting off the bus? \"))\n",
    "            self.seats_available += unload\n",
    "            if self.seats_available >= self.seats:\n",
    "                self.seats_available = self.seats\n",
    "            print(f\"{unload} passsenger have left the bus. There are {self.seats_available} left\")\n",
    "            \n",
    "        \n",
    "    \n",
    "    #Change driver\n",
    "    def change_driver(self):\n",
    "        change = input(\"Who is replacing you? \")\n",
    "        self.bus_driver = change\n",
    "        print(f\"The new bus driver is {self.bus_driver}. Be sure to thank then!\")\n",
    "        \n",
    "    #Check availabel seat\n",
    "    def check_seats(self):\n",
    "        print(f\"there are {self.seats_available} seats available\")\n",
    "    \n",
    "    #display bus color\n",
    "    def admire_bus(self):\n",
    "        print(f\"Would ya just look at that beautiful {self.color} bus! WOULD YA JUST LOOK AT IT!\")\n",
    "    \n",
    "    \n"
   ]
  },
  {
   "cell_type": "markdown",
   "metadata": {},
   "source": [
    "##### Calling"
   ]
  },
  {
   "cell_type": "code",
   "execution_count": null,
   "metadata": {},
   "outputs": [],
   "source": []
  },
  {
   "cell_type": "code",
   "execution_count": 57,
   "metadata": {},
   "outputs": [
    {
     "name": "stdout",
     "output_type": "stream",
     "text": [
      "What would you like to do? (load/unload/change driver/check seats/admire/quit) change driver\n",
      "Who is replacing you? Jigar\n",
      "The new bus driver is Jigar. Be sure to thank then!\n",
      "What would you like to do? (load/unload/change driver/check seats/admire/quit) admire\n",
      "Would ya just look at that beautiful Yellow bus! WOULD YA JUST LOOK AT IT!\n",
      "What would you like to do? (load/unload/change driver/check seats/admire/quit) quit\n",
      "OH NO! There are still passenger to be pickup. PLS don't abandon them!\n"
     ]
    }
   ],
   "source": [
    "def run():\n",
    "    dharti_bus = Bus(2, 90, 45, \"Yellow\", \"Dharti\")\n",
    "    while True:\n",
    "        response = input(\"What would you like to do? (load/unload/change driver/check seats/admire/quit) \")\n",
    "        if response.lower() == \"quit\":\n",
    "            print(\"OH NO! There are still passenger to be pickup. PLS don't abandon them!\")\n",
    "            break\n",
    "            \n",
    "        elif response.lower() == \"load\":\n",
    "            dharti_bus.load_passenger()\n",
    "            \n",
    "        elif response.lower() == \"unload\":\n",
    "            dharti_bus.unload_passenger()\n",
    "            \n",
    "        elif response.lower() == \"change driver\":\n",
    "            dharti_bus.change_driver()\n",
    "            \n",
    "        elif response.lower() == \"check seats\":\n",
    "            dharti_bus.check_seats()\n",
    "            \n",
    "        elif response.lower() == \"admire\":\n",
    "            dharti_bus.admire_bus()\n",
    "            \n",
    "        else:\n",
    "            print(\"That is not valid response. Please choose from the list.\")\n",
    "            \n",
    "\n",
    "            \n",
    "run()"
   ]
  },
  {
   "cell_type": "code",
   "execution_count": null,
   "metadata": {},
   "outputs": [],
   "source": [
    "class Cart():\n",
    "    def __init__(self):\n",
    "        self.items = []\n",
    "        \n",
    "#     def add_item(self):\n",
    "#         item = input(\"What would you like to add?\")\n",
    "#         quantity = int(input(\"How many would you like to add? \"))\n",
    "#         if item not in self.items:\n",
    "#             self.items[item] = quantity\n",
    "#         else:\n",
    "#             self.items[item] += quantity\n",
    "\n",
    "    def add_item(self):\n",
    "        item = input(\"What would you like to add? \")\n",
    "        self.items.append(item)\n",
    "    \n",
    "    def show_cart(self):\n",
    "        print(self.items)\n",
    "        \n",
    "    def remove_item(self):\n",
    "        pass\n",
    "        \n",
    "my_cart = Cart()\n",
    "my_cart.add_item()\n",
    "my_cart.show_cart()\n",
    "my_cart.add_item()\n",
    "my_cart.show_cart()\n"
   ]
  },
  {
   "cell_type": "markdown",
   "metadata": {},
   "source": [
    "##### Modifying an Attribute's Value Through a Method"
   ]
  },
  {
   "cell_type": "code",
   "execution_count": null,
   "metadata": {},
   "outputs": [],
   "source": [
    "# see above\n",
    "# load_passengers()\n",
    "# unload_passengers()\n",
    "# change_driver()"
   ]
  },
  {
   "cell_type": "markdown",
   "metadata": {},
   "source": [
    "##### Incrementing an Attribute's Value Through a Method"
   ]
  },
  {
   "cell_type": "code",
   "execution_count": null,
   "metadata": {},
   "outputs": [],
   "source": [
    "#unload_passengers()"
   ]
  },
  {
   "cell_type": "markdown",
   "metadata": {},
   "source": [
    "##### In-Class Exercise #3 - Add a method that takes in three parameters of year, doors and seats and prints out a formatted print statement with make, model, year, seats, and doors"
   ]
  },
  {
   "cell_type": "code",
   "execution_count": 61,
   "metadata": {},
   "outputs": [
    {
     "name": "stdout",
     "output_type": "stream",
     "text": [
      "The car is 2022-Honda CR-V and it has 4 door and 5 seats\n",
      "The car is 2020-Honda CR-V and it has 4 door and 8 seats\n"
     ]
    }
   ],
   "source": [
    "# Create class with 2 paramters inside of the __init__ which are make and model, more if you'd like\n",
    "\n",
    "# Create two methods for your class\n",
    "\n",
    "# Create a method that alters an attribute for your class\n",
    "\n",
    "# Display method that prints information about the vehicle\n",
    "\n",
    "# Output: This car is from 2019 and is a Ford Expolorer and has 4 doors and 5 seats\n",
    "\n",
    "# reminder in order to call class methods object.method()\n",
    "\n",
    "\n",
    "class Car():\n",
    "    def __init__(self, make, model):\n",
    "        self.make = make\n",
    "        self.model = model\n",
    "        self.year = 2022\n",
    "        self.seats = 5\n",
    "        self.doors = 4\n",
    "    def change_info(self, year, doors, seats):\n",
    "        self.year = year\n",
    "        self.seats = seats\n",
    "        self.doors = doors\n",
    "        \n",
    "    def display_info(self):\n",
    "        print(f\"The car is {self.year}-{self.make} {self.model} and it has {self.doors} door and {self.seats} seats\")\n",
    "\n",
    "dharti_car = Car(\"Honda\", \"CR-V\")\n",
    "dharti_car.display_info()\n",
    "dharti_car.change_info(2020, 4, 8)\n",
    "dharti_car.display_info()\n",
    "\n",
    "\n"
   ]
  },
  {
   "cell_type": "markdown",
   "metadata": {},
   "source": [
    "## Inheritance <br>\n",
    "<p>You can create a child-parent relationship between two classes by using inheritance. What this allows you to do is have overriding methods, but also inherit traits from the parent class. Think of it as an actual parent and child, the child will inherit the parent's genes, as will the classes in OOP</p>"
   ]
  },
  {
   "cell_type": "markdown",
   "metadata": {},
   "source": [
    "##### Syntax for Inheriting from a Parent Class"
   ]
  },
  {
   "cell_type": "code",
   "execution_count": 65,
   "metadata": {},
   "outputs": [],
   "source": [
    "class Animal:   #Parent Class\n",
    "    ACCELERATION = 9.8\n",
    "    def __init__(self, name, species, legs = 4):\n",
    "        self.name = name\n",
    "        self.species =species\n",
    "        self.legs = legs\n",
    "        \n",
    "    #generic parent method\n",
    "    def make_sound(self):\n",
    "        print(\"REEEEEEEEEEEEE\")\n",
    "        \n",
    "    \n",
    "class Dog(Animal):\n",
    "    SPEED = 15\n",
    "    def __init__(self, name, species, legs, color):\n",
    "        super().__init__(name, species, legs)\n",
    "        self.color = color\n",
    "        \n",
    "        \n",
    "    def print_info(self):\n",
    "        print(f\"{self.name} runs at {self.SPEED} mph and accelerates at {self.ACCELERATION} mps^2\")\n",
    "\n",
    "class Mutt(Dog):\n",
    "    COLOR = \"light brownish\"\n",
    "    \n",
    "    #Access the animal init class through the dog class\n",
    "    \n",
    "    def __init__(self, name, species, eye_color, color, legs):\n",
    "        Dog.__init__(self, name, species, color, legs)\n",
    "        self.eye_color = eye_color\n",
    "\n",
    "        \n",
    "    #override the  make sound method\n",
    "    \n",
    "    def make_sound(self):\n",
    "        print(\"rooooooooo\")\n",
    "        "
   ]
  },
  {
   "cell_type": "code",
   "execution_count": 68,
   "metadata": {},
   "outputs": [
    {
     "name": "stdout",
     "output_type": "stream",
     "text": [
      "9.8\n",
      "Kwicky\n",
      "Kwicky\n",
      "REEEEEEEEEEEEE\n"
     ]
    }
   ],
   "source": [
    "koala = Animal(\"Kwicky\", \"Koala\")\n",
    "print(koala.ACCELERATION)\n",
    "print(koala.name)\n",
    "print(koala.name)\n",
    "koala.make_sound()"
   ]
  },
  {
   "cell_type": "code",
   "execution_count": 71,
   "metadata": {
    "scrolled": true
   },
   "outputs": [
    {
     "name": "stdout",
     "output_type": "stream",
     "text": [
      "REEEEEEEEEEEEE\n",
      "4\n",
      "red white\n",
      "Astro runs at 15 mph and accelerates at 9.8 mps^2\n"
     ]
    }
   ],
   "source": [
    "besenji = Dog(\"Astro\", \"Besenji\", 4, \"red white\")\n",
    "besenji.make_sound()\n",
    "print(besenji.legs)\n",
    "print(besenji.color)\n",
    "besenji.print_info()"
   ]
  },
  {
   "cell_type": "code",
   "execution_count": 76,
   "metadata": {},
   "outputs": [
    {
     "ename": "TypeError",
     "evalue": "__init__() takes 5 positional arguments but 6 were given",
     "output_type": "error",
     "traceback": [
      "\u001b[1;31m---------------------------------------------------------------------------\u001b[0m",
      "\u001b[1;31mTypeError\u001b[0m                                 Traceback (most recent call last)",
      "Cell \u001b[1;32mIn[76], line 1\u001b[0m\n\u001b[1;32m----> 1\u001b[0m henri \u001b[38;5;241m=\u001b[39m \u001b[43mMutt\u001b[49m\u001b[43m(\u001b[49m\u001b[38;5;124;43m\"\u001b[39;49m\u001b[38;5;124;43mHenri\u001b[39;49m\u001b[38;5;124;43m\"\u001b[39;49m\u001b[43m,\u001b[49m\u001b[38;5;124;43m\"\u001b[39;49m\u001b[38;5;124;43mmini schnauzer and maybe yorkie and terrier or something\u001b[39;49m\u001b[38;5;124;43m\"\u001b[39;49m\u001b[43m,\u001b[49m\u001b[43m \u001b[49m\u001b[38;5;124;43m\"\u001b[39;49m\u001b[38;5;124;43mdark brown and grey\u001b[39;49m\u001b[38;5;124;43m\"\u001b[39;49m\u001b[43m,\u001b[49m\u001b[43m \u001b[49m\u001b[38;5;124;43m\"\u001b[39;49m\u001b[38;5;124;43mred\u001b[39;49m\u001b[38;5;124;43m\"\u001b[39;49m\u001b[43m,\u001b[49m\u001b[38;5;241;43m4\u001b[39;49m\u001b[43m)\u001b[49m\n\u001b[0;32m      2\u001b[0m \u001b[38;5;28mprint\u001b[39m(heneri\u001b[38;5;241m.\u001b[39mname)\n\u001b[0;32m      3\u001b[0m \u001b[38;5;28mprint\u001b[39m(henri\u001b[38;5;241m.\u001b[39mspecies)\n",
      "\u001b[1;31mTypeError\u001b[0m: __init__() takes 5 positional arguments but 6 were given"
     ]
    }
   ],
   "source": [
    "henri = Mutt(\"Henri\",\"mini schnauzer and maybe yorkie and terrier or something\", \"dark brown and grey\", \"red\",4)\n",
    "print(heneri.name)\n",
    "print(henri.species)\n",
    "henri.make_sound()\n",
    "print(henri.color)\n",
    "print(henri.eye_color)\n",
    "print(henri.SPEED)\n"
   ]
  },
  {
   "cell_type": "markdown",
   "metadata": {},
   "source": [
    "##### The \\__init\\__() Method for a Child Class - super()"
   ]
  },
  {
   "cell_type": "code",
   "execution_count": null,
   "metadata": {
    "scrolled": true
   },
   "outputs": [],
   "source": []
  },
  {
   "cell_type": "markdown",
   "metadata": {},
   "source": [
    "##### Defining Attributes and Methods for the Child Class"
   ]
  },
  {
   "cell_type": "code",
   "execution_count": null,
   "metadata": {},
   "outputs": [],
   "source": [
    "# See Above"
   ]
  },
  {
   "cell_type": "markdown",
   "metadata": {},
   "source": [
    "##### Method Overriding"
   ]
  },
  {
   "cell_type": "code",
   "execution_count": null,
   "metadata": {},
   "outputs": [],
   "source": [
    "# See Above"
   ]
  },
  {
   "cell_type": "markdown",
   "metadata": {},
   "source": [
    "## Classes as Attributes <br>\n",
    "<p>Classes can also be used as attributes within another class. This is useful in situations where you need to keep variables locally stored, instead of globally stored.</p>"
   ]
  },
  {
   "cell_type": "code",
   "execution_count": 81,
   "metadata": {},
   "outputs": [
    {
     "name": "stdout",
     "output_type": "stream",
     "text": [
      "2022 Tesla Plaid 20\n",
      "20\n"
     ]
    }
   ],
   "source": [
    "class Battery():\n",
    "    VOLTZ = 7.8\n",
    "    \n",
    "    def __init__(self,cells):\n",
    "        self.cells = cells\n",
    "        \n",
    "        \n",
    "class Car():\n",
    "    def __init__(self, year, make, model, battery):\n",
    "        self.year = year\n",
    "        self.make = make\n",
    "        self.model = model\n",
    "        self.battery = battery\n",
    "        \n",
    "    def print_info(self):\n",
    "        print(f\"{self.year} {self.make} {self.model} {self.battery.cells}\")\n",
    "        \n",
    "        \n",
    "my_battery = Battery(20)\n",
    "\n",
    "tesla = Car(2022, \"Tesla\", \"Plaid\", my_battery)\n",
    "tesla.print_info()\n",
    "\n",
    "print(my_battery.cells)\n"
   ]
  },
  {
   "cell_type": "markdown",
   "metadata": {},
   "source": [
    "## Classes as Attributes <br>"
   ]
  },
  {
   "cell_type": "markdown",
   "metadata": {},
   "source": [
    "<b>Generators in classes</b>"
   ]
  },
  {
   "cell_type": "code",
   "execution_count": 83,
   "metadata": {},
   "outputs": [],
   "source": [
    "#iterate through a movie genres and yield each genre untilll we get to the end of the list\n",
    "#once the ens of the list is hit you will get stopIteration\n",
    "#try and except to print message\n",
    "\n",
    "class Movie:\n",
    "    def __init__(self):\n",
    "        self.genres = ['spoky','adventure','drama','action', 'comedy', 'horror','romance']\n",
    "        self.generator_object = self.yield_genres()\n",
    "        \n",
    "    def yield_genres(self):\n",
    "        for genre in self.genres:\n",
    "            yield genre\n",
    "            \n",
    "    def show_genres(self):\n",
    "        try:\n",
    "            return next(self.generator_object)\n",
    "        except:\n",
    "            print(\"no more genres\")\n",
    "            \n",
    "            \n",
    "my_movie = Movie()\n",
    "        \n",
    "        "
   ]
  },
  {
   "cell_type": "code",
   "execution_count": 91,
   "metadata": {},
   "outputs": [
    {
     "name": "stdout",
     "output_type": "stream",
     "text": [
      "no more genres\n"
     ]
    }
   ],
   "source": [
    "my_movie.show_genres()"
   ]
  },
  {
   "cell_type": "markdown",
   "metadata": {},
   "source": [
    "# Exercises"
   ]
  },
  {
   "cell_type": "markdown",
   "metadata": {},
   "source": [
    "### Exercise 1 - Turn the shopping cart program from last week into an object-oriented program\n",
    "\n",
    "The comments in the cell below are there as a guide for thinking about the problem. However, if you feel a different way is best for you and your own thought process, please do what feels best for you by all means."
   ]
  },
  {
   "cell_type": "code",
   "execution_count": 19,
   "metadata": {},
   "outputs": [],
   "source": [
    "class ItemToPurchase:\n",
    "    def __init__(self, item_name= 'none', item_price=0, item_quantity=0, item_description = 'none'):\n",
    "        self.item_name = item_name\n",
    "        self.item_price = item_price\n",
    "        self.item_quantity = item_quantity\n",
    "        self.item_description = item_description\n",
    "    def print_item_cost(self):\n",
    "        string = '{} {} @ ${} = ${}'.format(self.item_name, self.item_quantity, self.item_price, (self.item_quantity \n",
    "* self.item_price))\n",
    "        cost = self.item_quantity * self.item_price\n",
    "        return string, cost\n",
    "    def print_item_description(self):\n",
    "        string = '{}: {}'.format(self.item_name, self.item_description)\n",
    "        print(string, end=' ')\n",
    "        return string\n",
    "\n",
    "\n",
    "class ShoppingCart:\n",
    "    def __init__(self,customer_name= None ,current_date='January 1,2016',cart_items=[]):\n",
    "        self.customer_name = customer_name\n",
    "        self.current_date = current_date\n",
    "        self.cart_items = cart_items\n",
    "\n",
    "    def add_item(self,):\n",
    "        print('\\nADD ITEM TO CART', end='\\n')\n",
    "        #prompt the name and description of item,price and Quentity\n",
    "        item_name = str(input('Enter the item name:')).lower();\n",
    "        item_description = str(input('\\nEnter the item description:')).lower();\n",
    "        item_price = float(input('\\nEnter the item price:'));\n",
    "        item_quantity = int(input('\\nEnter the item quantity:\\n'))\n",
    "\n",
    "        #Append the above values in to the list\n",
    "        self.cart_items.append(ItemToPurchase(item_name, item_price, item_quantity, item_description))\n",
    "\n",
    "    #Implement the method to delete the item in the cart\n",
    "\n",
    "    def remove_item(self):\n",
    "        print()\n",
    "        print('\\n REMOVE ITEM FROM CART', end='')\n",
    "        #prompt the item to remove the list\n",
    "        string = str(input('Enter name of item to remove:\\n')).lower()\n",
    "        i = 0\n",
    "        #Using for-loop to iterate every item\n",
    "        for item in self.cart_items:\n",
    "            #If item found delete in the list\n",
    "            if(item.item_name == string):               \n",
    "                del self.cart_items[i]\n",
    "                i += 1\n",
    "                #set the flag value to true\n",
    "                #break from the list\n",
    "                flag=True\n",
    "                break\n",
    "            #Otherwiese set value to false\n",
    "            else:\n",
    "                flag=False\n",
    "        #IF the value not found\n",
    "        if(flag==False):\n",
    "            #print the message\n",
    "            print('Item not found in cart. Nothing removed.')\n",
    "\n",
    "    def modify_item(self):\n",
    "        print('\\nCHANGE ITEM QUANTITY', end='\\n')\n",
    "        #Prompt the input item\n",
    "        name = str(input('Enter the item name:'))       \n",
    "        #Using for-loop to iterate every item\n",
    "        for item in self.cart_items:\n",
    "            #If item found update Quantity in the list\n",
    "            if(item.item_name == name):\n",
    "                quantity = int(input('Enter the new quantity:'))\n",
    "                item.item_quantity = quantity\n",
    "                #set the flag value to true\n",
    "                #break from the list\n",
    "                flag=True\n",
    "                break\n",
    "            #Otherwiese set value to false\n",
    "            else:\n",
    "                flag=False\n",
    "        #IF the value not found\n",
    "        if(flag==False):\n",
    "            #print the message\n",
    "            print('Item not found in cart. Nothing modified.')\n",
    "    #implement method to compute total number of items in the cart\n",
    "\n",
    "    def get_num_items_in_cart(self):\n",
    "        num_items = 0\n",
    "        #Using for-loop to iterate the cart\n",
    "        for item in self.cart_items:\n",
    "            #ADD the Quantities\n",
    "            num_items += item.item_quantity\n",
    "        #return the num_Items\n",
    "        return num_items\n",
    "\n",
    "    #Implement the method\n",
    "\n",
    "    def get_cost_of_cart(self):\n",
    "        total_cost = 0\n",
    "        cost = 0\n",
    "        #Using for-loop to iterate the list\n",
    "        #mulitply the price and Quantity\n",
    "        #add value to the Total_Cost\n",
    "        for item in self.cart_items:\n",
    "            cost = (item.item_quantity * item.item_price)\n",
    "            total_cost += cost\n",
    "        #return the value\n",
    "        return total_cost\n",
    "    #Implement the method to print the total\n",
    "\n",
    "    def print_total():\n",
    "\n",
    "        total_cost = self.get_cost_of_cart()\n",
    "        if (total_cost == 0):\n",
    "             print('SHOPPING CART IS EMPTY')\n",
    "        else:\n",
    "            output_cart()\n",
    "    #Implement the method to print_descriptions\n",
    "\n",
    "    def print_descriptions(self):\n",
    "        print('OUTPUT ITEMS\\' DESCRIPTIONS')\n",
    "        print('{}\\'s Shopping Cart - {}'.format(self.customer_name, self.current_date),end='\\n')\n",
    "        print('\\nItem Descriptions', end='\\n')\n",
    "        for item in self.cart_items:\n",
    "            print('{}: {}'.format(item.item_name, item.item_description), end='\\n')\n",
    "    #Implement the method output_cart()    \n",
    "\n",
    "    def output_cart(self):\n",
    "        new=ShoppingCart()\n",
    "        print('OUTPUT SHOPPING CART', end='\\n')\n",
    "        print('{}\\'s Shopping Cart - {}'.format(self.customer_name, self.current_date),end='\\n')      \n",
    "        print('Number of Items:', new.get_num_items_in_cart(), end='\\n\\n')\n",
    "        self.total_cost = self.get_cost_of_cart()\n",
    "        if (self.total_cost == 0):\n",
    "            print('SHOPPING CART IS EMPTY')\n",
    "        else:\n",
    "            pass\n",
    "        tc = 0\n",
    "        for item in self.cart_items:\n",
    "            print('{} {} @ ${} = ${}'.format(item.item_name, item.item_quantity,\n",
    "                                             item.item_price, (item.item_quantity * item.item_price)), end='\\n')\n",
    "            tc += (item.item_quantity * item.item_price)\n",
    "        print('\\nTotal: ${}'.format(tc), end='\\n')\n",
    "\n",
    " \n"
   ]
  },
  {
   "cell_type": "code",
   "execution_count": 20,
   "metadata": {},
   "outputs": [
    {
     "name": "stdout",
     "output_type": "stream",
     "text": [
      "Enter customer's name:dharti\n",
      "\n",
      "Enter today's date:05/23/2023\n",
      "\n",
      "Customer name: dharti\n",
      "Today's date: 05/23/2023\n",
      "\n",
      "\n",
      "To add items in cart enter 'add'\n",
      "To remove items from cart enter 'remove'\n",
      "To see all items in cart enter 'show'\n",
      "To Change items in cart enter 'change'\n",
      "To see description of the items in cart enter 'discr'\n",
      "If finish shopping enter 'quit'\n",
      "Enter your choice: add\n",
      "\n",
      "\n",
      "\n",
      "ADD ITEM TO CART\n",
      "Enter the item name:banana\n",
      "\n",
      "Enter the item description:fruit\n",
      "\n",
      "Enter the item price:0.50\n",
      "\n",
      "Enter the item quantity:\n",
      "5\n",
      "\n",
      "\n",
      "To add items in cart enter 'add'\n",
      "To remove items from cart enter 'remove'\n",
      "To see all items in cart enter 'show'\n",
      "To Change items in cart enter 'change'\n",
      "To see description of the items in cart enter 'discr'\n",
      "If finish shopping enter 'quit'\n",
      "Enter your choice: add\n",
      "\n",
      "\n",
      "\n",
      "ADD ITEM TO CART\n",
      "Enter the item name:onion\n",
      "\n",
      "Enter the item description:veg\n",
      "\n",
      "Enter the item price:1.00\n",
      "\n",
      "Enter the item quantity:\n",
      "8\n",
      "\n",
      "\n",
      "To add items in cart enter 'add'\n",
      "To remove items from cart enter 'remove'\n",
      "To see all items in cart enter 'show'\n",
      "To Change items in cart enter 'change'\n",
      "To see description of the items in cart enter 'discr'\n",
      "If finish shopping enter 'quit'\n",
      "Enter your choice: show\n",
      "\n",
      "\n",
      "OUTPUT SHOPPING CART\n",
      "dharti's Shopping Cart - 05/23/2023\n",
      "Number of Items: 13\n",
      "\n",
      "banana 5 @ $0.5 = $2.5\n",
      "onion 8 @ $1.0 = $8.0\n",
      "\n",
      "Total: $10.5\n",
      "\n",
      "\n",
      "To add items in cart enter 'add'\n",
      "To remove items from cart enter 'remove'\n",
      "To see all items in cart enter 'show'\n",
      "To Change items in cart enter 'change'\n",
      "To see description of the items in cart enter 'discr'\n",
      "If finish shopping enter 'quit'\n",
      "Enter your choice: discr\n",
      "\n",
      "\n",
      "OUTPUT ITEMS' DESCRIPTIONS\n",
      "dharti's Shopping Cart - 05/23/2023\n",
      "\n",
      "Item Descriptions\n",
      "banana: fruit\n",
      "onion: veg\n",
      "\n",
      "\n",
      "To add items in cart enter 'add'\n",
      "To remove items from cart enter 'remove'\n",
      "To see all items in cart enter 'show'\n",
      "To Change items in cart enter 'change'\n",
      "To see description of the items in cart enter 'discr'\n",
      "If finish shopping enter 'quit'\n",
      "Enter your choice: quit\n",
      "\n",
      "\n",
      "Thank you for shopping with us\n",
      "OUTPUT SHOPPING CART\n",
      "dharti's Shopping Cart - 05/23/2023\n",
      "Number of Items: 13\n",
      "\n",
      "banana 5 @ $0.5 = $2.5\n",
      "onion 8 @ $1.0 = $8.0\n",
      "\n",
      "Total: $10.5\n"
     ]
    }
   ],
   "source": [
    "\n",
    "#Implement the method print_menu\n",
    "def print_menu(new_cart):\n",
    "    customer_Cart = newCart\n",
    "    string=''\n",
    "    #declare the string menu\n",
    "\n",
    "    while True:\n",
    "        print(\"\\n\")\n",
    "        print(\"To add items in cart enter 'add'\")\n",
    "        print(\"To remove items from cart enter 'remove'\")\n",
    "        print(\"To see all items in cart enter 'show'\")\n",
    "        print(\"To Change items in cart enter 'change'\")\n",
    "        print(\"To see description of the items in cart enter 'discr'\")\n",
    "        print(\"If finish shopping enter 'quit'\")\n",
    "        ans = input('Enter your choice: ').lower()\n",
    "        print(\"\\n\")\n",
    "\n",
    "\n",
    "\n",
    "        if ans == 'quit':\n",
    "            print(\"Thank you for shopping with us\")\n",
    "            customer_Cart.output_cart()\n",
    "            return False\n",
    "        elif ans == 'add':\n",
    "            #call the method to the add elements to the cart\n",
    "            customer_Cart.add_item()\n",
    "        elif ans == 'remove':\n",
    "            customer_Cart.remove_item()\n",
    "        elif ans == 'change':\n",
    "            customer_Cart.modify_item()\n",
    "        elif ans == 'show':\n",
    "            #call the method to the display the elements in the cart\n",
    "            customer_Cart.output_cart()\n",
    "        elif ans == 'discr':\n",
    "            #call the method to the display the elements in the cart\n",
    "            customer_Cart.print_descriptions()\n",
    "        else:\n",
    "            print(\"\\n Sorry that was not valid option..\")                \n",
    "\n",
    "\n",
    "\n",
    "# Type main section of code here\n",
    "if __name__ == \"__main__\":\n",
    "    # Type main section of code here\n",
    "    customer_name = str(input('Enter customer\\'s name:'))\n",
    "    current_date = str(input('\\nEnter today\\'s date:'))\n",
    "    print()\n",
    "    print('Customer name:', customer_name, end='\\n')\n",
    "    print('Today\\'s date:', current_date, end='\\n')\n",
    "    newCart = ShoppingCart(customer_name, current_date)\n",
    "    print_menu(newCart)"
   ]
  },
  {
   "cell_type": "markdown",
   "metadata": {},
   "source": [
    "### Exercise 2 - Write a Python class which has two methods get_String and print_String. get_String accept a string from the user and print_String print the string in upper case"
   ]
  },
  {
   "cell_type": "code",
   "execution_count": 21,
   "metadata": {},
   "outputs": [
    {
     "name": "stdout",
     "output_type": "stream",
     "text": [
      "Enter the string: Dharti Patel is great coder\n",
      "DHARTI PATEL IS GREAT CODER\n"
     ]
    }
   ],
   "source": [
    "class IOString():\n",
    "    def __init__(self):\n",
    "        self.str1 = \"\"\n",
    "\n",
    "    def get_String(self):\n",
    "        self.str1 = input(\"Enter the string: \")\n",
    "\n",
    "    def print_String(self):\n",
    "        print(self.str1.upper())\n",
    "\n",
    "str1 = IOString()\n",
    "str1.get_String()\n",
    "str1.print_String()\n"
   ]
  }
 ],
 "metadata": {
  "kernelspec": {
   "display_name": "Python 3 (ipykernel)",
   "language": "python",
   "name": "python3"
  },
  "language_info": {
   "codemirror_mode": {
    "name": "ipython",
    "version": 3
   },
   "file_extension": ".py",
   "mimetype": "text/x-python",
   "name": "python",
   "nbconvert_exporter": "python",
   "pygments_lexer": "ipython3",
   "version": "3.9.7"
  }
 },
 "nbformat": 4,
 "nbformat_minor": 2
}
